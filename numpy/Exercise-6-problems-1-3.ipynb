{
 "cells": [
  {
   "cell_type": "markdown",
   "metadata": {
    "nbgrader": {
     "grade": false,
     "grade_id": "cell-d5619cbfcc4ce3c6",
     "locked": true,
     "schema_version": 1,
     "solution": false
    }
   },
   "source": [
    "# Exercise 6 - Data analysis with NumPy\n",
    "\n",
    "In this week's exercise we will continue developing our skills using NumPy to analyze climate data.\n",
    "\n",
    "After making your changes, you will need to upload your changes to GitHub as usual.\n",
    "The answers to the questions in this week's exercise should be given by modifying the document in the requested places.\n",
    "\n",
    "If you are uncertain about **the style of your code**, take a look at the **[PEP 8 - Style guide for Python code](https://www.python.org/dev/peps/pep-0008/)**.  \n",
    "\n",
    " - **Exercise 6 is due by 16:00 on 17.10.**\n",
    " - Don't forget to check out the [hints for this week's exercise](https://geo-python.github.io/2018/lessons/L6/exercise-6-hints.html) if you're having trouble.\n",
    " - Scores on this exercise are out of 20 points.\n",
    " - There are altogether 3 problems that you should solve. The fourth problem is optional for more advanced students (does not affect grading).\n",
    "\n",
    "## Data\n",
    "\n",
    "For problems 1-3 in this exercise we will be using climate data from the Helsinki-Vantaa airport station.\n",
    "For these problems, we have daily observations obtained from the [NOAA Global Historical Climatology Network](https://www.ncdc.noaa.gov/cdo-web/search?datasetid=GHCND).\n",
    "The file was downloaded using the \"Custom GHCN-Daily Text\" output format, including following attributes:\n",
    "\n",
    "| Attribute                | Description                      |\n",
    "|--------------------------|----------------------------------|\n",
    "| `STATION`                | Unique ID of the weather station |\n",
    "| `ELEVATION`              | Elevation of the station         |\n",
    "| `LATITUDE` , `LONGITUDE` | Coordinates of the station       |\n",
    "| `DATE`                   | Date of the measurement          |\n",
    "| `PRCP`                   | Precipitation                    |\n",
    "| `TAVG`                   | Average temperature              |\n",
    "| `TMAX`                   | Maximum temperature              |\n",
    "| `TMIN`                   | Minimum temperature              |\n",
    "\n",
    "The file for this problem is exactly as available from the NOAA website.\n",
    "You may want to take a look at the [data](data/1091402.txt).\n",
    "\n",
    "**Note**: Once again temperatures in this dataset are given in degrees Fahrenheit.\n",
    "\n",
    "Additional information about the data format can be found in the [hints for Exercise 6](https://geo-python.github.io/2018/lessons/L6/exercise-6-hints.html)."
   ]
  },
  {
   "cell_type": "markdown",
   "metadata": {
    "nbgrader": {
     "grade": false,
     "grade_id": "cell-14f206ae523c1561",
     "locked": true,
     "schema_version": 1,
     "solution": false
    }
   },
   "source": [
    "# Problem 1 - Reading in a tricky data file (5 points)\n",
    "\n",
    "#### Overview\n",
    "\n",
    "You first task for this exercise is to read in the data file (`data/1091402.txt`) to a variable called **`data`**.\n",
    "This should be done using the `np.genfromtxt()` function, and the resulting NumPy array should have the following attributes:\n",
    "\n",
    "  - The numerical values for date, precipitation and temperatures read in as numbers (skip the other columns)\n",
    "  - The header rows of the datafile should be skipped\n",
    "  - The no-data values (assigned with value **`-9999`**) should properly be converted to `nan`\n",
    "  \n",
    "After successfully reading the data file you should find answers to the specific questions below, and upload your notebook to **your own repository** for this week's exercise.\n",
    "\n",
    "You can find hints about how to do these things in the [hints for Exercise 6](https://geo-python.github.io/2018/lessons/L6/exercise-6-hints.html)."
   ]
  },
  {
   "cell_type": "markdown",
   "metadata": {
    "nbgrader": {
     "grade": false,
     "grade_id": "cell-9adf2ed5177e047b",
     "locked": true,
     "schema_version": 1,
     "solution": false
    }
   },
   "source": [
    "1. Read the file into variable **data**\n",
    "   - Skip the first two rows\n",
    "   - Read in only the date, precipitation, and temperatures values\n",
    "   - Convert the no-data values into `NaN` (values -9999)"
   ]
  },
  {
   "cell_type": "code",
   "execution_count": null,
   "metadata": {
    "nbgrader": {
     "grade": false,
     "grade_id": "read_file",
     "locked": false,
     "schema_version": 1,
     "solution": true
    }
   },
   "outputs": [],
   "source": [
    "# YOUR CODE HERE\n",
    "raise NotImplementedError()"
   ]
  },
  {
   "cell_type": "code",
   "execution_count": null,
   "metadata": {
    "nbgrader": {
     "grade": true,
     "grade_id": "read_file_tests",
     "locked": true,
     "points": 1.5,
     "schema_version": 1,
     "solution": false
    }
   },
   "outputs": [],
   "source": [
    "# Test print that should work\n",
    "print(data[0,:])"
   ]
  },
  {
   "cell_type": "markdown",
   "metadata": {
    "nbgrader": {
     "grade": false,
     "grade_id": "cell-afa5e9f8d8ba84fe",
     "locked": true,
     "schema_version": 1,
     "solution": false
    }
   },
   "source": [
    "- How many no-data values (`nan`) are there for **`TAVG`**?\n",
    "  - Assign your answer to a variable called **`tavg_nan_count`**"
   ]
  },
  {
   "cell_type": "code",
   "execution_count": null,
   "metadata": {
    "nbgrader": {
     "grade": false,
     "grade_id": "tavg_nan_count",
     "locked": false,
     "schema_version": 1,
     "solution": true
    }
   },
   "outputs": [],
   "source": [
    "# How many no-data values?\n",
    "# tavg_nan_count = \n",
    "\n",
    "# YOUR CODE HERE\n",
    "raise NotImplementedError()"
   ]
  },
  {
   "cell_type": "code",
   "execution_count": null,
   "metadata": {
    "nbgrader": {
     "grade": true,
     "grade_id": "tavg_nan_count_tests",
     "locked": true,
     "points": 0.5,
     "schema_version": 1,
     "solution": false
    }
   },
   "outputs": [],
   "source": [
    "# This test print should print a number\n",
    "print(tavg_nan_count)"
   ]
  },
  {
   "cell_type": "markdown",
   "metadata": {
    "nbgrader": {
     "grade": false,
     "grade_id": "cell-4f3b42a472921cac",
     "locked": true,
     "schema_version": 1,
     "solution": false
    }
   },
   "source": [
    "- How many no-data values (nan) are there for `TMIN`?\n",
    "  - Assign your answer to a variable called **`tmin_nan_count`**"
   ]
  },
  {
   "cell_type": "code",
   "execution_count": null,
   "metadata": {
    "nbgrader": {
     "grade": false,
     "grade_id": "tmin_nan_count",
     "locked": false,
     "schema_version": 1,
     "solution": true
    }
   },
   "outputs": [],
   "source": [
    "# How many no-data values?\n",
    "# tmin_nan_count = \n",
    "\n",
    "# YOUR CODE HERE\n",
    "raise NotImplementedError()"
   ]
  },
  {
   "cell_type": "code",
   "execution_count": null,
   "metadata": {
    "nbgrader": {
     "grade": true,
     "grade_id": "tmin_nan_count_tests",
     "locked": true,
     "points": 0.5,
     "schema_version": 1,
     "solution": false
    }
   },
   "outputs": [],
   "source": [
    "# This test print should print a number\n",
    "print(tmin_nan_count)"
   ]
  },
  {
   "cell_type": "markdown",
   "metadata": {
    "nbgrader": {
     "grade": false,
     "grade_id": "cell-bee7c276af86de3b",
     "locked": true,
     "schema_version": 1,
     "solution": false
    }
   },
   "source": [
    "- How many days total are covered by this data file?\n",
    "  - Assign your answer into a variable called **`day_count`**"
   ]
  },
  {
   "cell_type": "code",
   "execution_count": null,
   "metadata": {
    "nbgrader": {
     "grade": false,
     "grade_id": "day_count",
     "locked": false,
     "schema_version": 1,
     "solution": true
    }
   },
   "outputs": [],
   "source": [
    "# How many days?\n",
    "# day_count = \n",
    "\n",
    "# YOUR CODE HERE\n",
    "raise NotImplementedError()"
   ]
  },
  {
   "cell_type": "code",
   "execution_count": null,
   "metadata": {
    "nbgrader": {
     "grade": true,
     "grade_id": "day_count_tests",
     "locked": true,
     "points": 0.5,
     "schema_version": 1,
     "solution": false
    }
   },
   "outputs": [],
   "source": [
    "# This test print should print a number\n",
    "print(day_count)"
   ]
  },
  {
   "cell_type": "markdown",
   "metadata": {
    "nbgrader": {
     "grade": false,
     "grade_id": "cell-73430e7625f30fcd",
     "locked": true,
     "schema_version": 1,
     "solution": false
    }
   },
   "source": [
    "- When was the first observation made (i.e., the oldest)?\n",
    "  - Assign your answer to a variable called **`first_obs`**"
   ]
  },
  {
   "cell_type": "code",
   "execution_count": null,
   "metadata": {
    "nbgrader": {
     "grade": false,
     "grade_id": "first_observation",
     "locked": false,
     "schema_version": 1,
     "solution": true
    }
   },
   "outputs": [],
   "source": [
    "# First observation?\n",
    "# first_obs =\n",
    "\n",
    "# YOUR CODE HERE\n",
    "raise NotImplementedError()"
   ]
  },
  {
   "cell_type": "code",
   "execution_count": null,
   "metadata": {
    "nbgrader": {
     "grade": true,
     "grade_id": "first_observation_tests",
     "locked": true,
     "points": 0.5,
     "schema_version": 1,
     "solution": false
    }
   },
   "outputs": [],
   "source": [
    "# This test print should print a number\n",
    "print(first_obs)"
   ]
  },
  {
   "cell_type": "markdown",
   "metadata": {
    "nbgrader": {
     "grade": false,
     "grade_id": "cell-884001554428bcc9",
     "locked": true,
     "schema_version": 1,
     "solution": false
    }
   },
   "source": [
    "- When was the last observation made (i.e., the most recent)?\n",
    "  - Assign your answer to a variable called **`last_obs`**"
   ]
  },
  {
   "cell_type": "code",
   "execution_count": null,
   "metadata": {
    "nbgrader": {
     "grade": false,
     "grade_id": "last_observation",
     "locked": false,
     "schema_version": 1,
     "solution": true
    }
   },
   "outputs": [],
   "source": [
    "# Last observation?\n",
    "# last_obs =\n",
    "\n",
    "# YOUR CODE HERE\n",
    "raise NotImplementedError()"
   ]
  },
  {
   "cell_type": "code",
   "execution_count": null,
   "metadata": {
    "nbgrader": {
     "grade": true,
     "grade_id": "last_observation_tests",
     "locked": true,
     "points": 0.5,
     "schema_version": 1,
     "solution": false
    }
   },
   "outputs": [],
   "source": [
    "# This test print should print a number\n",
    "print(last_obs)"
   ]
  },
  {
   "cell_type": "markdown",
   "metadata": {
    "nbgrader": {
     "grade": false,
     "grade_id": "cell-28463397dd0e5914",
     "locked": true,
     "schema_version": 1,
     "solution": false
    }
   },
   "source": [
    "- What was the average temperature of the whole data file (all years)?\n",
    "  - Assign your answer to a variable called **`avg_temp`**"
   ]
  },
  {
   "cell_type": "code",
   "execution_count": null,
   "metadata": {
    "nbgrader": {
     "grade": false,
     "grade_id": "avg_temp",
     "locked": false,
     "schema_version": 1,
     "solution": true
    }
   },
   "outputs": [],
   "source": [
    "# Average temperature?\n",
    "# avg_temp =\n",
    "\n",
    "# YOUR CODE HERE\n",
    "raise NotImplementedError()"
   ]
  },
  {
   "cell_type": "code",
   "execution_count": null,
   "metadata": {
    "nbgrader": {
     "grade": true,
     "grade_id": "avg_temp_tests",
     "locked": true,
     "points": 0.5,
     "schema_version": 1,
     "solution": false
    }
   },
   "outputs": [],
   "source": [
    "# This test print should print a number\n",
    "print(avg_temp)"
   ]
  },
  {
   "cell_type": "markdown",
   "metadata": {
    "nbgrader": {
     "grade": false,
     "grade_id": "cell-2410f207756cfb40",
     "locked": true,
     "schema_version": 1,
     "solution": false
    }
   },
   "source": [
    "- What was the **`TMAX`** temperature of the ``Summer 69`` (i.e., including months May, June, July, August of the year 1969)?\n",
    "  - Assign your answer to a variable called **`avg_temp_69`**"
   ]
  },
  {
   "cell_type": "code",
   "execution_count": null,
   "metadata": {
    "nbgrader": {
     "grade": false,
     "grade_id": "avg_temp_69",
     "locked": false,
     "schema_version": 1,
     "solution": true
    }
   },
   "outputs": [],
   "source": [
    "# Summer 1969 temp?\n",
    "# avg_temp_69 =\n",
    "\n",
    "# YOUR CODE HERE\n",
    "raise NotImplementedError()"
   ]
  },
  {
   "cell_type": "code",
   "execution_count": null,
   "metadata": {
    "nbgrader": {
     "grade": true,
     "grade_id": "avg_temp_69_tests",
     "locked": true,
     "points": 0.5,
     "schema_version": 1,
     "solution": false
    }
   },
   "outputs": [],
   "source": [
    "# This test print should print a number\n",
    "print(avg_temp_69)"
   ]
  },
  {
   "cell_type": "markdown",
   "metadata": {
    "nbgrader": {
     "grade": false,
     "grade_id": "cell-c0f59fe22c41f916",
     "locked": true,
     "schema_version": 1,
     "solution": false
    }
   },
   "source": [
    "# Problem 2 - Calculating monthly average temperatures (7.5 points)\n",
    "\n",
    "For this problem your goal is to calculate monthly average temperature values in degrees Celsius from the daily values we have in the data file.\n",
    "You can use the approaches taught in Lessons 4, 5 and 6 to solve this.\n",
    "You can again consult the [hints for Exercise 6](https://geo-python.github.io/2018/lessons/L6/exercise-6-hints.html) if you are stuck.\n",
    "\n",
    "**You can continue working with the same data that you used in Problem 1.**\n",
    "\n",
    "#### For this problem modify you should:\n",
    "\n",
    "1. Calculate the monthly average temperatures for the entire dataset (i.e., for each year separately) file using the approach shown in the lesson this week.\n",
    "    - You should store the average temperatures into a new NumPy array called **`temp_monthly`**.\n",
    "    - You will also need to create separate arrays called **`year`** and **`month`** to store the year and month from the date data. Be sure to use the temperature and date data with the `nan` values removed!\n",
    "2. Create a new array called **`temp_monthly_celsius`** with the same size as **`temp_monthly`** that has the monthly average temperatures in Celsius.\n",
    "3. Update and commit your changes to the notebook in your **own repository** of this week's exercise."
   ]
  },
  {
   "cell_type": "code",
   "execution_count": null,
   "metadata": {
    "nbgrader": {
     "grade": false,
     "grade_id": "monthly_averages",
     "locked": false,
     "schema_version": 1,
     "solution": true
    }
   },
   "outputs": [],
   "source": [
    "# YOUR CODE HERE\n",
    "raise NotImplementedError()"
   ]
  },
  {
   "cell_type": "code",
   "execution_count": null,
   "metadata": {
    "nbgrader": {
     "grade": true,
     "grade_id": "monthly_averages_tests",
     "locked": true,
     "points": 7.5,
     "schema_version": 1,
     "solution": false
    }
   },
   "outputs": [],
   "source": []
  },
  {
   "cell_type": "markdown",
   "metadata": {},
   "source": [
    "# Problem 3 - Calculating temperature anomalies (7.5 points)\n",
    "\n",
    "Our goal in this problem is to calculate monthly temperature anomalies in order to see how temperatures have changed over time, relative to the observation period between 1952-1980.\n",
    "\n",
    "We will again continue working with this same notebook.\n",
    "\n",
    "In order to complete the problem, you must do following things:\n",
    "\n",
    "- You need to calculate a mean temperature ***for each month*** over the period 1952-1980 using the data in the data file. As a result, you should end up with 12 values, 1 mean temperature for each month over that period, and store them in a new NumPy array called **`ref_temps`**.\n",
    "- You should also create a character string array called **`unique_months`** that contains a value for each month in the form below (i.e., January = `'01'`).\n",
    "   \n",
    "For example, your data should be something like that below, 1 value for each month of the year (12 total):\n",
    "   \n",
    "| unique_months    | ref_temps        |\n",
    "|------------------|------------------|\n",
    "| 01               | -5.350916        |\n",
    "| 02               | -5.941307        |\n",
    "| 03               | -2.440364        |\n",
    "| ...              | ...              |\n",
    "   \n",
    "*Remember, these temperatures should be in degrees Celsius.*\n",
    "\n",
    "- Once you have the monthly mean values for each of the 12 months, you can then calculate a temperature anomaly for every month in the `temp_monthly_celsius` array.\n",
    "- The temperature anomaly we want to calculate is simply the temperature for one month in `temp_monthly_celsius` minus the corresponding monthly reference temperature in `ref_temps`.\n",
    "    - Notice that these arrays are not the same size and you'll need a creative solution to this problem. The [hints for Exercise 6](https://geo-python.github.io/2018/lessons/L6/exercise-6-hints.html) may help.\n",
    "- You should thus end up with three new arrays: \n",
    "\n",
    "    1. **`anomaly`**  showing the temperature anomaly, the difference in temperature for a given month (e.g., February 1960) compared to the average (e.g., for February 1952-1980) \n",
    "    2. **`unique_months`** indicating the month\n",
    "    3. **`ref_temps`** indicating the (monthly) reference temperature\n",
    "    \n",
    "- Update and commit your changes to the notebook in your **own repository** of this week's exercise."
   ]
  },
  {
   "cell_type": "code",
   "execution_count": null,
   "metadata": {
    "nbgrader": {
     "grade": false,
     "grade_id": "temp_anomaly",
     "locked": false,
     "schema_version": 1,
     "solution": true
    }
   },
   "outputs": [],
   "source": [
    "# YOUR CODE HERE\n",
    "raise NotImplementedError()"
   ]
  },
  {
   "cell_type": "markdown",
   "metadata": {
    "nbgrader": {
     "grade": false,
     "grade_id": "cell-20e097f4bc41b60d",
     "locked": true,
     "schema_version": 1,
     "solution": false
    }
   },
   "source": [
    "- What is the largest value in `anomaly` array?\n",
    "   - Print the answer in the cell below"
   ]
  },
  {
   "cell_type": "code",
   "execution_count": null,
   "metadata": {
    "nbgrader": {
     "grade": true,
     "grade_id": "temp_anomaly_tests",
     "locked": true,
     "points": 7.5,
     "schema_version": 1,
     "solution": false
    }
   },
   "outputs": [],
   "source": []
  },
  {
   "cell_type": "markdown",
   "metadata": {},
   "source": [
    "#### Done!\n",
    "\n",
    "That's it. Now you are ready with Problems 1-3. If you want, you can still continue with an optional [Problem 4](Exercise-6-problem-4.ipynb)."
   ]
  }
 ],
 "metadata": {
  "celltoolbar": "Create Assignment",
  "kernelspec": {
   "display_name": "Python 3",
   "language": "python",
   "name": "python3"
  },
  "language_info": {
   "codemirror_mode": {
    "name": "ipython",
    "version": 3
   },
   "file_extension": ".py",
   "mimetype": "text/x-python",
   "name": "python",
   "nbconvert_exporter": "python",
   "pygments_lexer": "ipython3",
   "version": "3.6.4"
  }
 },
 "nbformat": 4,
 "nbformat_minor": 2
}
